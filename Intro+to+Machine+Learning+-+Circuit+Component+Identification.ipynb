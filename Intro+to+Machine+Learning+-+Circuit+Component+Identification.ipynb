{
 "cells": [
  {
   "cell_type": "markdown",
   "metadata": {},
   "source": [
    "# Machine Learning Project- Circuit Component Identification\n",
    "\n",
    "Programmers: Tanzila Rahman (tr1106) and Nnamdi Nwaokorie (npn225)                                               \n",
    "Class: EE-UY 4563 - Intro to Machine Learning                                                                     \n",
    "Professor: Pr. Sundeep Rangan                                                            \n",
    "Date: 22 December 2017                                                               "
   ]
  },
  {
   "cell_type": "markdown",
   "metadata": {},
   "source": [
    "# Problem Formulation\n",
    "\n",
    "Problem: Is it possible to take a picture of different circuit components and have a neural network \n",
    "         identify the difference between them?\n",
    "\n",
    "Goal:  Our goal is to test a normal convolutional neural network on 8000 handwritten circuit component samples, 1600 for each of \n",
    "        the five circuit components used!  The five circuit components are (1) a resistor, (2) an independent volt source, (3) a \n",
    "        dependent volt source, (4) an independent current sources, and (5) a dependent current source!"
   ]
  },
  {
   "cell_type": "markdown",
   "metadata": {},
   "source": [
    "# Review of Past Techniques\n",
    "\n",
    "One team has attempted this same problem but instead of using a convolutional neural network, they implemented an artificial neural networks.  In addition, instead of identifying specific circuit components, they sought to indentify entire circuit composed of various components.  \n",
    "The team's work can be seen here: http://www.sciencedirect.com/science/article/pii/S1877050916300783"
   ]
  },
  {
   "cell_type": "markdown",
   "metadata": {},
   "source": [
    "# Our Solution\n",
    "\n",
    "Below, our solution to this unique problem is presented!  \n",
    "\n",
    "The steps to our solution are as follows:\n",
    "\n",
    "(1) Create and test the images NOTE: Images can be found in the \"Electronics\" folder of this repository!                         \n",
    "(2) Resize the images and Threshold them to black and white                                       \n",
    "(3) Capture 8000 random images and keep track of the 8000 labels                                            \n",
    "(4) Rescale the general data and create the training and testing datasets                                        \n",
    "(5) Create the neural network and its model                                                                \n",
    "(6) Test the neural network on the data                                                                                \n",
    "(7) Create a Support Vector Machine (SVM) and test it on the data                                               \n",
    "\n"
   ]
  },
  {
   "cell_type": "markdown",
   "metadata": {},
   "source": [
    "# Step 1: Load and Test the Images"
   ]
  },
  {
   "cell_type": "code",
   "execution_count": 1,
   "metadata": {},
   "outputs": [
    {
     "name": "stderr",
     "output_type": "stream",
     "text": [
      "Using TensorFlow backend.\n"
     ]
    }
   ],
   "source": [
    "import keras\n",
    "\n",
    "import numpy as np\n",
    "import matplotlib.pyplot as plt\n",
    "%matplotlib inline\n",
    "from sklearn import linear_model, preprocessing\n",
    "\n",
    "import librosa\n",
    "import librosa.display\n",
    "import librosa.feature"
   ]
  },
  {
   "cell_type": "code",
   "execution_count": 2,
   "metadata": {
    "collapsed": true
   },
   "outputs": [],
   "source": [
    "# Create a function plt_circuit that plots the circuit components.\n",
    "\n",
    "def plt_circuit(img):\n",
    "    nrow = 28\n",
    "    ncol = 28\n",
    "    img_sq = img.reshape((nrow,ncol))\n",
    "    plt.imshow(img_sq,  cmap='Greys_r')\n",
    "    plt.xticks([])\n",
    "    plt.yticks([])\n"
   ]
  },
  {
   "cell_type": "code",
   "execution_count": 3,
   "metadata": {
    "collapsed": true
   },
   "outputs": [],
   "source": [
    "# Define our exception as follows which has an optional string argument.\n",
    "\n",
    "class ImgException(Exception):\n",
    "    def __init__(self, msg='No msg'):\n",
    "        self.msg = msg"
   ]
  },
  {
   "cell_type": "code",
   "execution_count": 4,
   "metadata": {
    "collapsed": true
   },
   "outputs": [],
   "source": [
    "import matplotlib.image as mpimg\n",
    "import skimage.io\n",
    "from skimage.filters import threshold_otsu\n",
    "from skimage.segmentation import clear_border\n",
    "from skimage.measure import label, regionprops\n",
    "from skimage.morphology import closing, square\n",
    "from skimage.color import label2rgb\n",
    "from skimage.transform import resize\n",
    "import matplotlib.patches as mpatches\n",
    "from skimage import data\n",
    "import skimage"
   ]
  },
  {
   "cell_type": "code",
   "execution_count": 5,
   "metadata": {
    "collapsed": true
   },
   "outputs": [],
   "source": [
    "import os.path\n",
    "\n",
    "# Create a function which can find and load the required image\n",
    "\n",
    "def load_img(circ_ind, samp_ind):\n",
    "    \"\"\"\n",
    "    Returns the image from the dataset given a circuit component and sample index.\n",
    "    \n",
    "        \n",
    "    If the file doesn't exist, it raises an Exception with the filename.   \n",
    "    \"\"\" \n",
    "    \n",
    "    # TODO:  Set the file name based on circ_ind and samp_ind\n",
    "    # fname = ...\n",
    "    fname = \"C:\\\\Users\\\\Nnamdi\\\\Documents\\\\Electronics\\\\Img\\\\Sample{0:03d}\\\\img{0:03d}- ({1:d}).JPEG\".format(circ_ind, samp_ind)\n",
    "    \n",
    "    # TODO:  Use the os.path.isfile command to check if the file exists.  \n",
    "    # If not raise an ImgException with the message \"[fname] not found\"\n",
    "    if os.path.isfile(fname) == False:\n",
    "        raise ImgException(\"%s not found\" % fname)\n",
    "\n",
    "    # TODO:  Use the skimage.io.imread() command to read the png file and return the image.\n",
    "    # img = ...\n",
    "    img = skimage.io.imread(fname)\n",
    "    return img"
   ]
  },
  {
   "cell_type": "code",
   "execution_count": 6,
   "metadata": {},
   "outputs": [
    {
     "name": "stdout",
     "output_type": "stream",
     "text": [
      "Circ = 5 samp = 47\n",
      "C:\\Users\\Nnamdi\\Documents\\Electronics\\Img\\Sample005\\img005- (1670).JPEG not found\n"
     ]
    },
    {
     "data": {
      "image/png": "[encoded data removed]",
      "text/plain": [
       "<matplotlib.figure.Figure at 0x10ddef28>"
      ]
     },
     "metadata": {},
     "output_type": "display_data"
    }
   ],
   "source": [
    "# Test the load_img function and make sure it works properly\n",
    "\n",
    "circ_ind = 5\n",
    "samp_inds = [47,1670]\n",
    "for samp_ind in samp_inds:\n",
    "    try:\n",
    "        img = load_img(circ_ind=circ_ind, samp_ind=samp_ind)\n",
    "        print(\"Circ = %d samp = %d\" % (circ_ind, samp_ind))\n",
    "        plt.imshow(img)\n",
    "    except ImgException as e:\n",
    "        print(e.msg)"
   ]
  },
  {
   "cell_type": "markdown",
   "metadata": {},
   "source": [
    "# Step 2: Resize and Threshold the Images"
   ]
  },
  {
   "cell_type": "code",
   "execution_count": 7,
   "metadata": {
    "collapsed": true
   },
   "outputs": [],
   "source": [
    "# Complete the following method to find the image and place it in a 28 x 28 box.\n",
    "\n",
    "def mnist_resize(img):\n",
    "    \"\"\"\n",
    "    Extracts a circuit component from the image, and places in a 28x28 image to match the MNIST format.\n",
    "    \n",
    "    Returns:\n",
    "    img1:  MNIST formatted 28 x 28 size image with the circuit component from img\n",
    "    box:   A bounding box indicating the locations where the circuit component was found in img.    \n",
    "    \"\"\"\n",
    "    # Image sizes (fixed for now).  To match the MNIST data, the image \n",
    "    # will be first resized to 20 x 20.  Then, the image will be placed in center of 28 x 28 box\n",
    "    # offet by 4 on each side.\n",
    "    nx_img = 20   \n",
    "    ny_img = 20\n",
    "    nx_box = 28   \n",
    "    ny_box = 28\n",
    "    offx = 4\n",
    "    offy = 4\n",
    "    \n",
    "    # TODO:  Convert the image to gray scale using the skimage.color.rgb2gray method.\n",
    "    # bw = ...\n",
    "    bw = skimage.color.rgb2gray(img)\n",
    "    \n",
    "    # Threshold the image using OTSU threshold\n",
    "    thresh = threshold_otsu(bw)\n",
    "    bw = closing(bw < thresh, square(3)).astype(int)\n",
    "    \n",
    "    # Get the regions in the image.\n",
    "    # This creates a list of regions in the image where the circuit component possibly is.\n",
    "    regions = regionprops(bw)\n",
    "\n",
    "    # TODO:  Find region with the largest area.  You can get the region area from region.area.\n",
    "    # region_max = ...\n",
    "    region_max = regions[0];\n",
    "    area_max = 0\n",
    "    for region in regions:\n",
    "        if region.area > area_max:\n",
    "            region_max = region\n",
    "    area_max = region_max.area\n",
    "    \n",
    "    # Raise an ImgException if no region with area >= 100 was found\n",
    "    if (area_max < 100):\n",
    "        raise ImgException(\"No image found\")    \n",
    "                \n",
    "    # Get the bounding box of the circuit component from region_max.bbox\n",
    "    minr, minc, maxr, maxc = region_max.bbox\n",
    "    box = [minr, minc, maxr, maxc]\n",
    "    \n",
    "    # TODO:  Crop the image in bw to the bounding box\n",
    "    # bw_crop = bw[...]\n",
    "    bw_crop = bw[minr:maxr, minc:maxc]\n",
    "    \n",
    "    # TODO:  Resize the cropped image to a 20x20 using the resize command.\n",
    "    # You will need to use the mode = 'constant' option\n",
    "    # bw_resize = ...\n",
    "    bw_resize = skimage.transform.resize(bw_crop, (nx_img, ny_img), mode = 'constant')\n",
    "    \n",
    "    # TODO:  Threshold back to a 0-1 image by comparing the pixels to their mean value\n",
    "    mean_value = skimage.filters.threshold_mean(bw_resize)\n",
    "    bw_resize2 = bw_resize; \n",
    "    \n",
    "    # Loop through the rows and columns of the bw_resize matrix\n",
    "    for i in range(np.shape(bw_resize)[0]):\n",
    "        for j in range(np.shape(bw_resize)[1]):\n",
    "            # Set all values in the matrix less than the mean to zero\n",
    "            if bw_resize[i, j] < mean_value:\n",
    "                bw_resize2[i, j] = 0.0\n",
    "            # Else, set those values to one\n",
    "            else:\n",
    "                bw_resize2[i, j] = 1.0\n",
    "\n",
    "    # TODO:  Place extracted 20 x 20 image in larger image 28 x 28\n",
    "    # img1 = ...\n",
    "    img1 = np.zeros((nx_box, ny_box))\n",
    "    img1[offx:-offx, offy:-offy] = bw_resize2\n",
    "    \n",
    "    return img1, box"
   ]
  },
  {
   "cell_type": "code",
   "execution_count": 8,
   "metadata": {
    "scrolled": true
   },
   "outputs": [
    {
     "data": {
      "image/png": "[encoded data removed]",
      "text/plain": [
       "<matplotlib.figure.Figure at 0x10eef2e8>"
      ]
     },
     "metadata": {},
     "output_type": "display_data"
    }
   ],
   "source": [
    "# Load an image\n",
    "img = load_img(4, 1038)\n",
    "\n",
    "try:\n",
    "    \n",
    "    # Resize the image\n",
    "    img1, box = mnist_resize(img)\n",
    "    #img1 = edge_detect_and_resize(img)\n",
    "    \n",
    "    # create figure and axes\n",
    "    ax = plt.subplot(1, 2, 1)\n",
    "    \n",
    "    # Display the image\n",
    "    ax.imshow(img)\n",
    "    \n",
    "    # TODO:  Plot the original image, img, along with a red box around the captured circuit component.\n",
    "    # Use the mpatches.Rectangle and ax.add_patch methods to construct the rectangle.\n",
    "    minr, minc, maxr, maxc = box\n",
    "    rect = mpatches.Rectangle((minc, minr), maxc - minc, maxr - minr, fill=False, edgecolor='red', linewidth=2)\n",
    "    ax.add_patch(rect)\n",
    "    \n",
    "    # TODO:  Plot the resized 28 x 28 image, img1.  You can use the plt_circuit(img1) command \n",
    "    plt.subplot(1, 2, 2)\n",
    "    plt_circuit(img1)\n",
    "    \n",
    "except ImgException as e:\n",
    "    print(e.msg)"
   ]
  },
  {
   "cell_type": "markdown",
   "metadata": {},
   "source": [
    "# Step 3: Randomly Capture and Appropriately Label 8000 Images"
   ]
  },
  {
   "cell_type": "code",
   "execution_count": 9,
   "metadata": {},
   "outputs": [
    {
     "name": "stdout",
     "output_type": "stream",
     "text": [
      "images captured = 500\n",
      "images captured = 1000\n",
      "images captured = 1500\n",
      "images captured = 2000\n",
      "images captured = 2500\n",
      "images captured = 3000\n",
      "images captured = 3500\n",
      "images captured = 4000\n",
      "images captured = 4500\n",
      "images captured = 5000\n",
      "images captured = 5500\n",
      "images captured = 6000\n",
      "images captured = 6500\n",
      "images captured = 7000\n",
      "images captured = 7500\n",
      "images captured = 8000\n"
     ]
    }
   ],
   "source": [
    "# Dimensions\n",
    "ncirc = 8000   # 5 different circuit components * 1600 samples for each component\n",
    "nrow = 28\n",
    "ncol = 28\n",
    "npix = nrow*ncol   # npix = 28*28 = 784\n",
    "xcirc = np.zeros((ncirc, npix))\n",
    "ylabels = np.array([]) \n",
    "\n",
    "i = 0\n",
    "\n",
    "while i < ncirc:\n",
    "    \n",
    "    # TODO:  Generate a random circuit and sample    \n",
    "    circ_ind = np.random.randint(1, 6)  # Get a random circuit component\n",
    "    ylabels = np.append(ylabels, (circ_ind - 1)) # Get the labels for each circuit component\n",
    "    \n",
    "    # samp_ind = random number from 1 to 1600\n",
    "    samp_ind = np.random.randint(1, 1600) #Each circuit component has 1600 samples to choose from\n",
    "        \n",
    "    try:\n",
    "        # TODO:  Load the image with load_img function\n",
    "        img = load_img(circ_ind, samp_ind)\n",
    "        \n",
    "        # TODO:  Reize the image with mnist_resize function\n",
    "        img1, box = mnist_resize(img)\n",
    "\n",
    "        # TODO:  Store the image in a row of xcirc[i,:] and increment i\n",
    "        img2 = skimage.transform.resize(img1, (npix, 1), mode = 'constant') # Resize the img from (28, 28) to (784, 1)\n",
    "        img2 = np.squeeze(img2) # Change image shape from (784, 1) to (784)\n",
    "        xcirc[i, :] = img2\n",
    "        i += 1\n",
    "        \n",
    "        # Print progress\n",
    "        if (i % 500 == 0):\n",
    "            print ('images captured = {0:d}'.format(i))\n",
    "    except ImgException:\n",
    "        # Skip if image loading or resizing failed\n",
    "        pass"
   ]
  },
  {
   "cell_type": "code",
   "execution_count": 10,
   "metadata": {
    "collapsed": true
   },
   "outputs": [],
   "source": [
    "# since this takes a long time to generate, save the matrix xcirc to a file xcirc.p using the pickle.dump command. \n",
    "\n",
    "import pickle\n",
    "with open(\"xcirc.p\", \"wb\") as fp:\n",
    "    pickle.dump(xcirc, fp)"
   ]
  },
  {
   "cell_type": "code",
   "execution_count": 11,
   "metadata": {
    "collapsed": true
   },
   "outputs": [],
   "source": [
    "# Reload the data xcirc from the file xcirc.p\n",
    "\n",
    "import pickle\n",
    "with open( \"xcirc.p\", \"rb\" ) as fp:\n",
    "    xcirc = pickle.load(fp)"
   ]
  },
  {
   "cell_type": "markdown",
   "metadata": {},
   "source": [
    "# Step 4: Rescale the Data and Create Training and Testing Sets"
   ]
  },
  {
   "cell_type": "code",
   "execution_count": 12,
   "metadata": {
    "collapsed": true
   },
   "outputs": [],
   "source": [
    "# Rescale the circuit components xcirc to a new matrix xcirc = 2*xcircs-1 to make the pixel values go from -1 to 1.  \n",
    "xcircs = 2*xcirc - 1\n",
    "\n",
    "# Reassign the variables for convience\n",
    "x = xcircs\n",
    "y = ylabels\n",
    "\n",
    "# Get 7000 training samples Xtr,ytr and 1000 test samples Xts,yts. Remember to randomly select them.\n",
    "import random\n",
    "rand = random.sample(range(8000), 8000)\n",
    "tr_index = rand[0:7000]\n",
    "ts_index = rand[7000:8000]\n",
    "\n",
    "# TODO\n",
    "xtr = x[tr_index, :]\n",
    "ytr = y[tr_index]\n",
    "xts = x[ts_index, :]\n",
    "yts = y[ts_index]"
   ]
  },
  {
   "cell_type": "markdown",
   "metadata": {},
   "source": [
    "# Step 5: Create the Neural Network and its Model"
   ]
  },
  {
   "cell_type": "code",
   "execution_count": 13,
   "metadata": {
    "collapsed": true
   },
   "outputs": [],
   "source": [
    "from keras.models import Model, Sequential\n",
    "from keras.layers import Dense, Activation"
   ]
  },
  {
   "cell_type": "code",
   "execution_count": 14,
   "metadata": {
    "collapsed": true
   },
   "outputs": [],
   "source": [
    "# TODO clear session\n",
    "import keras.backend as K\n",
    "K.clear_session()"
   ]
  },
  {
   "cell_type": "code",
   "execution_count": 15,
   "metadata": {
    "collapsed": true
   },
   "outputs": [],
   "source": [
    "# TODO: construct the model\n",
    "nin = x.shape[1]           # dimension of input data\n",
    "nh = 306                   # number of hidden units\n",
    "nout = int(np.max(y)+1)    # number of outputs since ys = 0,1,...,nclasses-1\n",
    "model = Sequential()\n",
    "model.add(Dense(nh, input_shape=(nin,), activation='sigmoid', name='hidden'))\n",
    "model.add(Dense(nout, activation='softmax', name='output'))"
   ]
  },
  {
   "cell_type": "code",
   "execution_count": 16,
   "metadata": {},
   "outputs": [
    {
     "name": "stdout",
     "output_type": "stream",
     "text": [
      "_________________________________________________________________\n",
      "Layer (type)                 Output Shape              Param #   \n",
      "=================================================================\n",
      "hidden (Dense)               (None, 306)               240210    \n",
      "_________________________________________________________________\n",
      "output (Dense)               (None, 5)                 1535      \n",
      "=================================================================\n",
      "Total params: 241,745\n",
      "Trainable params: 241,745\n",
      "Non-trainable params: 0\n",
      "_________________________________________________________________\n"
     ]
    }
   ],
   "source": [
    "# TODO:  Print the model summary\n",
    "model.summary()"
   ]
  },
  {
   "cell_type": "code",
   "execution_count": 17,
   "metadata": {},
   "outputs": [],
   "source": [
    "# A callback is a class that is passed to the fit method. \n",
    "# Complete the LoadHistory callback class below to save the loss and validation accuracy.\n",
    "\n",
    "class LossHistory(keras.callbacks.Callback):\n",
    "    def on_train_begin(self, logs={}):\n",
    "        # TODO:  Create two empty lists, self.loss and self.val_acc\n",
    "        self.loss = np.array([])\n",
    "        self.val_acc = np.array([])\n",
    "        self.prt_period = 10\n",
    "\n",
    "    def on_batch_end(self, batch, logs={}):\n",
    "        # TODO:  This is called at the end of each batch.  \n",
    "        # Add the loss in logs.get('loss') to the loss list\n",
    "        self.loss = np.append(self.loss, logs.get('loss'))\n",
    "        \n",
    "    def on_epoch_end(self, epoch, logs):\n",
    "        # TODO:  This is called at the end of each epoch.  \n",
    "        # Add the test accuracy in logs.get('val_acc') to the val_acc list\n",
    "        v = logs.get('val_acc')\n",
    "        self.val_acc = np.append(self.val_acc, v)\n",
    "        if (epoch % self.prt_period == 0):\n",
    "            print('epoch = %d val_acc=%12.4e' % (epoch, v))\n",
    "        \n",
    "# Create an instance of the history callback\n",
    "history_cb = LossHistory()"
   ]
  },
  {
   "cell_type": "markdown",
   "metadata": {},
   "source": [
    "#  Step 6: Test the Neural Network on the Data"
   ]
  },
  {
   "cell_type": "code",
   "execution_count": 18,
   "metadata": {
    "collapsed": true
   },
   "outputs": [],
   "source": [
    "# Create an optimizer and compile the model. Select the appropriate loss function and metrics. \n",
    "# For the optimizer, use the Adam optimizer with a learning rate of 0.001\n",
    "\n",
    "from keras import optimizers\n",
    "\n",
    "# Since this is a multi-class classification problem, we select the sparse_categorial_crossentropy loss.\n",
    "# It is sparse because the labels vector y is of shape [batch_size] instead of shape [batch_size, num_classes]\n",
    "opt = optimizers.Adam(lr=0.001) # beta_1=0.9, beta_2=0.999, epsilon=1e-08, decay=0.0)\n",
    "model.compile(optimizer=opt,\n",
    "              loss='sparse_categorical_crossentropy', \n",
    "              metrics=['accuracy'])"
   ]
  },
  {
   "cell_type": "code",
   "execution_count": 19,
   "metadata": {},
   "outputs": [
    {
     "name": "stdout",
     "output_type": "stream",
     "text": [
      "epoch = 0 val_acc=  5.7200e-01\n",
      "epoch = 10 val_acc=  6.6700e-01\n",
      "epoch = 20 val_acc=  7.1300e-01\n",
      "epoch = 30 val_acc=  7.2800e-01\n",
      "epoch = 40 val_acc=  7.5900e-01\n",
      "epoch = 50 val_acc=  7.6800e-01\n",
      "epoch = 60 val_acc=  7.8000e-01\n",
      "epoch = 70 val_acc=  7.8300e-01\n",
      "epoch = 80 val_acc=  7.9900e-01\n",
      "epoch = 90 val_acc=  7.8700e-01\n",
      "epoch = 100 val_acc=  7.9200e-01\n"
     ]
    },
    {
     "data": {
      "text/plain": [
       "<keras.callbacks.History at 0x10ec0e80>"
      ]
     },
     "execution_count": 19,
     "metadata": {},
     "output_type": "execute_result"
    }
   ],
   "source": [
    "# Fit the model for 10 epochs using the scaled data for both the training and validation.  \n",
    "# Use the validation_data option to pass the test data. \n",
    "# Also, pass the callback class created above. Use a batch size of 100. \n",
    "# Your final accuracy should be >99%. \n",
    "batch_size = 100\n",
    "model.fit(xtr, ytr, epochs=110, batch_size=batch_size, \n",
    "          validation_data=(xts, yts), callbacks=[history_cb],verbose=False)"
   ]
  },
  {
   "cell_type": "code",
   "execution_count": 20,
   "metadata": {},
   "outputs": [
    {
     "data": {
      "image/png": "[encoded data removed]",
      "text/plain": [
       "<matplotlib.figure.Figure at 0x10e293c8>"
      ]
     },
     "metadata": {},
     "output_type": "display_data"
    }
   ],
   "source": [
    "# Plot the validation accuracy saved in the history_cb. This gives one accuracy value per epoch. \n",
    "plt.plot( history_cb.val_acc, '-')\n",
    "plt.xlabel('Epoch')\n",
    "plt.ylabel('Validation Accuracy')\n",
    "plt.grid()"
   ]
  },
  {
   "cell_type": "markdown",
   "metadata": {},
   "source": [
    "# Step 7: Create a Support Vector Machine (SVM) and Test it on the Data"
   ]
  },
  {
   "cell_type": "code",
   "execution_count": 21,
   "metadata": {
    "collapsed": true
   },
   "outputs": [],
   "source": [
    "# First create the SVM classifer. Use an \"rbf\" classifier with C=2.8 and gamma=.0073.\n",
    "\n",
    "from sklearn import svm\n",
    "\n",
    "# TODO:  Create a classifier: a support vector classifier\n",
    "svc = svm.SVC(probability=False,  kernel=\"rbf\", C=2.8, gamma=.0073, verbose=10)"
   ]
  },
  {
   "cell_type": "code",
   "execution_count": 22,
   "metadata": {},
   "outputs": [
    {
     "name": "stdout",
     "output_type": "stream",
     "text": [
      "[LibSVM]"
     ]
    },
    {
     "data": {
      "text/plain": [
       "SVC(C=2.8, cache_size=200, class_weight=None, coef0=0.0,\n",
       "  decision_function_shape='ovr', degree=3, gamma=0.0073, kernel='rbf',\n",
       "  max_iter=-1, probability=False, random_state=None, shrinking=True,\n",
       "  tol=0.001, verbose=10)"
      ]
     },
     "execution_count": 22,
     "metadata": {},
     "output_type": "execute_result"
    }
   ],
   "source": [
    "# Use the svc.fit command to fit on the training data.\n",
    "svc.fit(xtr,ytr)"
   ]
  },
  {
   "cell_type": "code",
   "execution_count": 23,
   "metadata": {},
   "outputs": [
    {
     "name": "stdout",
     "output_type": "stream",
     "text": [
      "Accuaracy = 0.773000\n"
     ]
    }
   ],
   "source": [
    "# Measure the accuracy on the test samples. You should get about 96% accuracy.\n",
    "yhat_ts = svc.predict(xts)\n",
    "acc = np.mean(yhat_ts == yts)\n",
    "print('Accuaracy = {0:f}'.format(acc))"
   ]
  },
  {
   "cell_type": "markdown",
   "metadata": {
    "collapsed": true
   },
   "source": [
    "# Evaluation \n",
    "\n",
    "As can be seen above, both the Convolutional Neural Network and the Support Vector Machine were unable to obtain an accuracy greater than 80 percent! \n",
    "\n",
    "This may be do to several factors such as poor data due to inaequate pictures of the circuit components and poor thresholding of the data images!  \n",
    "\n",
    "Ultimately, the this project could be improved by maybe finding a better way to threshold the images to black and white, resizing of the images differently to add resolution, and possibly scaling the data more efficiently.  "
   ]
  },
  {
   "cell_type": "code",
   "execution_count": null,
   "metadata": {
    "collapsed": true
   },
   "outputs": [],
   "source": []
  }
 ],
 "metadata": {
  "kernelspec": {
   "display_name": "Python 3",
   "language": "python",
   "name": "python3"
  },
  "language_info": {
   "codemirror_mode": {
    "name": "ipython",
    "version": 3
   },
   "file_extension": ".py",
   "mimetype": "text/x-python",
   "name": "python",
   "nbconvert_exporter": "python",
   "pygments_lexer": "ipython3",
   "version": "3.6.1"
  }
 },
 "nbformat": 4,
 "nbformat_minor": 2
}
